{
 "cells": [
  {
   "cell_type": "markdown",
   "id": "1d64194f",
   "metadata": {},
   "source": [
    "# 人员流失预测"
   ]
  },
  {
   "cell_type": "markdown",
   "id": "509e651e",
   "metadata": {},
   "source": [
    "> 使用决策树预测人员流失状态，发现客户流失规律"
   ]
  },
  {
   "cell_type": "code",
   "execution_count": 23,
   "id": "55ab77ef",
   "metadata": {},
   "outputs": [],
   "source": [
    "import pandas as pd\n",
    "from sklearn.metrics import confusion_matrix\n",
    "from sklearn.tree import DecisionTreeClassifier as DTC\n",
    "from sklearn.model_selection import train_test_split"
   ]
  },
  {
   "cell_type": "markdown",
   "id": "a0795234",
   "metadata": {},
   "source": [
    "### 定义评价函数"
   ]
  },
  {
   "cell_type": "code",
   "execution_count": 24,
   "id": "9ba148b4",
   "metadata": {},
   "outputs": [],
   "source": [
    "def test_pre(pred):\n",
    "    # 混淆矩阵\n",
    "    hx = confusion_matrix(y_te, pred, labels=['非流失', '准流失'])\n",
    "    print('混淆矩阵：\\n', hx)\n",
    "    # 精确率\n",
    "    P = hx[1, 1] / (hx[0, 1] + hx[1, 1])\n",
    "    print('精确率：', round(P, 3))\n",
    "    # 召回率\n",
    "    R = hx[1, 1] / (hx[1, 0] + hx[1, 1])\n",
    "    print('召回率：', round(R, 3))\n",
    "    # F1值\n",
    "    F1 = 2 * P * R / (P + R)\n",
    "    print('F1值：', round(F1, 3))"
   ]
  },
  {
   "cell_type": "markdown",
   "id": "bf4315b1",
   "metadata": {},
   "source": [
    "### 构建社员流失特征"
   ]
  },
  {
   "cell_type": "code",
   "execution_count": 48,
   "id": "08a2fb2e",
   "metadata": {},
   "outputs": [
    {
     "data": {
      "text/html": [
       "<div>\n",
       "<style scoped>\n",
       "    .dataframe tbody tr th:only-of-type {\n",
       "        vertical-align: middle;\n",
       "    }\n",
       "\n",
       "    .dataframe tbody tr th {\n",
       "        vertical-align: top;\n",
       "    }\n",
       "\n",
       "    .dataframe thead th {\n",
       "        text-align: right;\n",
       "    }\n",
       "</style>\n",
       "<table border=\"1\" class=\"dataframe\">\n",
       "  <thead>\n",
       "    <tr style=\"text-align: right;\">\n",
       "      <th></th>\n",
       "      <th>时长</th>\n",
       "      <th>满意程度</th>\n",
       "      <th>学习状况</th>\n",
       "      <th>退社</th>\n",
       "    </tr>\n",
       "  </thead>\n",
       "  <tbody>\n",
       "    <tr>\n",
       "      <th>0</th>\n",
       "      <td>80</td>\n",
       "      <td>4.0</td>\n",
       "      <td>1</td>\n",
       "      <td>准流失</td>\n",
       "    </tr>\n",
       "    <tr>\n",
       "      <th>1</th>\n",
       "      <td>60</td>\n",
       "      <td>3.0</td>\n",
       "      <td>5</td>\n",
       "      <td>非流失</td>\n",
       "    </tr>\n",
       "    <tr>\n",
       "      <th>2</th>\n",
       "      <td>75</td>\n",
       "      <td>5.0</td>\n",
       "      <td>3</td>\n",
       "      <td>非流失</td>\n",
       "    </tr>\n",
       "    <tr>\n",
       "      <th>3</th>\n",
       "      <td>77</td>\n",
       "      <td>4.0</td>\n",
       "      <td>4</td>\n",
       "      <td>非流失</td>\n",
       "    </tr>\n",
       "    <tr>\n",
       "      <th>4</th>\n",
       "      <td>83</td>\n",
       "      <td>2.0</td>\n",
       "      <td>1</td>\n",
       "      <td>准流失</td>\n",
       "    </tr>\n",
       "    <tr>\n",
       "      <th>...</th>\n",
       "      <td>...</td>\n",
       "      <td>...</td>\n",
       "      <td>...</td>\n",
       "      <td>...</td>\n",
       "    </tr>\n",
       "    <tr>\n",
       "      <th>1778</th>\n",
       "      <td>30</td>\n",
       "      <td>1.0</td>\n",
       "      <td>4</td>\n",
       "      <td>非流失</td>\n",
       "    </tr>\n",
       "    <tr>\n",
       "      <th>1779</th>\n",
       "      <td>78</td>\n",
       "      <td>5.0</td>\n",
       "      <td>3</td>\n",
       "      <td>非流失</td>\n",
       "    </tr>\n",
       "    <tr>\n",
       "      <th>1780</th>\n",
       "      <td>46</td>\n",
       "      <td>1.0</td>\n",
       "      <td>5</td>\n",
       "      <td>非流失</td>\n",
       "    </tr>\n",
       "    <tr>\n",
       "      <th>1781</th>\n",
       "      <td>49</td>\n",
       "      <td>5.0</td>\n",
       "      <td>4</td>\n",
       "      <td>非流失</td>\n",
       "    </tr>\n",
       "    <tr>\n",
       "      <th>1782</th>\n",
       "      <td>44</td>\n",
       "      <td>3.0</td>\n",
       "      <td>2</td>\n",
       "      <td>准流失</td>\n",
       "    </tr>\n",
       "  </tbody>\n",
       "</table>\n",
       "<p>1781 rows × 4 columns</p>\n",
       "</div>"
      ],
      "text/plain": [
       "      时长  满意程度  学习状况   退社\n",
       "0     80   4.0     1  准流失\n",
       "1     60   3.0     5  非流失\n",
       "2     75   5.0     3  非流失\n",
       "3     77   4.0     4  非流失\n",
       "4     83   2.0     1  准流失\n",
       "...   ..   ...   ...  ...\n",
       "1778  30   1.0     4  非流失\n",
       "1779  78   5.0     3  非流失\n",
       "1780  46   1.0     5  非流失\n",
       "1781  49   5.0     4  非流失\n",
       "1782  44   3.0     2  准流失\n",
       "\n",
       "[1781 rows x 4 columns]"
      ]
     },
     "execution_count": 48,
     "metadata": {},
     "output_type": "execute_result"
    }
   ],
   "source": [
    "info_user=pd.read_excel('../File/output/流失分析.xlsx')\n",
    "data=info_user.iloc[:,2:]\n",
    "data.drop(data[data['满意程度'].isnull()].index,inplace=True)\n",
    "data"
   ]
  },
  {
   "cell_type": "markdown",
   "id": "d765e686",
   "metadata": {},
   "source": [
    "### 构建决策树模型"
   ]
  },
  {
   "cell_type": "code",
   "execution_count": 49,
   "id": "e9748c4f",
   "metadata": {},
   "outputs": [
    {
     "name": "stdout",
     "output_type": "stream",
     "text": [
      "混淆矩阵：\n",
      " [[220   0]\n",
      " [  0 137]]\n",
      "精确率： 1.0\n",
      "召回率： 1.0\n",
      "F1值： 1.0\n"
     ]
    }
   ],
   "source": [
    "x_tr,x_te,y_tr,y_te=train_test_split(data.iloc[:,:-1],data['退社'],test_size=0.2,random_state=1314)\n",
    "dtc=DTC(random_state=1314)\n",
    "dtc.fit(x_tr,y_tr)\n",
    "per=dtc.predict(x_te)\n",
    "test_pre(per)"
   ]
  }
 ],
 "metadata": {
  "kernelspec": {
   "display_name": "Python 3 (ipykernel)",
   "language": "python",
   "name": "python3"
  },
  "language_info": {
   "codemirror_mode": {
    "name": "ipython",
    "version": 3
   },
   "file_extension": ".py",
   "mimetype": "text/x-python",
   "name": "python",
   "nbconvert_exporter": "python",
   "pygments_lexer": "ipython3",
   "version": "3.9.12"
  }
 },
 "nbformat": 4,
 "nbformat_minor": 5
}
