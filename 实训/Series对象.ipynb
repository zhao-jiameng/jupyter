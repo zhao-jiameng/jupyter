{
 "cells": [
  {
   "cell_type": "markdown",
   "id": "5d9840ac",
   "metadata": {},
   "source": [
    "# 创建Series对象\n"
   ]
  },
  {
   "cell_type": "code",
   "execution_count": 19,
   "id": "33e999e9",
   "metadata": {},
   "outputs": [],
   "source": [
    "import numpy as np\n",
    "import pandas as pd\n",
    "from IPython.core.interactiveshell import InteractiveShell\n",
    "InteractiveShell.ast_node_interactivity='all'"
   ]
  },
  {
   "cell_type": "markdown",
   "id": "4b24b6cb",
   "metadata": {},
   "source": [
    "## 通过数组创建"
   ]
  },
  {
   "cell_type": "code",
   "execution_count": 2,
   "id": "202ebbcb",
   "metadata": {},
   "outputs": [
    {
     "data": {
      "text/plain": [
       "array([1, 2, 3])"
      ]
     },
     "execution_count": 2,
     "metadata": {},
     "output_type": "execute_result"
    }
   ],
   "source": [
    "#创建np数组\n",
    "n1=np.array([1,2,3])\n",
    "n1"
   ]
  },
  {
   "cell_type": "code",
   "execution_count": 3,
   "id": "378be0df",
   "metadata": {},
   "outputs": [
    {
     "data": {
      "text/plain": [
       "numpy.ndarray"
      ]
     },
     "execution_count": 3,
     "metadata": {},
     "output_type": "execute_result"
    }
   ],
   "source": [
    "#查看类型\n",
    "type(n1)"
   ]
  },
  {
   "cell_type": "code",
   "execution_count": 4,
   "id": "5cdc7dfd",
   "metadata": {},
   "outputs": [
    {
     "data": {
      "text/plain": [
       "0    1\n",
       "1    2\n",
       "2    3\n",
       "dtype: int32"
      ]
     },
     "execution_count": 4,
     "metadata": {},
     "output_type": "execute_result"
    }
   ],
   "source": [
    "#创建s对象（默认自增索引）\n",
    "s1=pd.Series(n1)\n",
    "s1"
   ]
  },
  {
   "cell_type": "code",
   "execution_count": 5,
   "id": "f00ea425",
   "metadata": {},
   "outputs": [
    {
     "data": {
      "text/plain": [
       "a    1\n",
       "b    2\n",
       "c    3\n",
       "dtype: int32"
      ]
     },
     "execution_count": 5,
     "metadata": {},
     "output_type": "execute_result"
    }
   ],
   "source": [
    "#指定索引\n",
    "s2=pd.Series(n1,index=['a','b','c'])\n",
    "s2"
   ]
  },
  {
   "cell_type": "markdown",
   "id": "50b2145b",
   "metadata": {},
   "source": [
    "## 通过列表List创建"
   ]
  },
  {
   "cell_type": "code",
   "execution_count": 6,
   "id": "3db4a8aa",
   "metadata": {},
   "outputs": [
    {
     "data": {
      "text/plain": [
       "[4, 5, 6]"
      ]
     },
     "execution_count": 6,
     "metadata": {},
     "output_type": "execute_result"
    }
   ],
   "source": [
    "#定义一个列表\n",
    "list1=[4,5,6]\n",
    "list1"
   ]
  },
  {
   "cell_type": "code",
   "execution_count": 7,
   "id": "54f3cb78",
   "metadata": {},
   "outputs": [
    {
     "data": {
      "text/plain": [
       "d    4\n",
       "e    5\n",
       "f    6\n",
       "dtype: int64"
      ]
     },
     "execution_count": 7,
     "metadata": {},
     "output_type": "execute_result"
    }
   ],
   "source": [
    "s3=pd.Series(list1,index=['d','e','f'])\n",
    "s3"
   ]
  },
  {
   "cell_type": "markdown",
   "id": "8d978671",
   "metadata": {},
   "source": [
    "## 使用字典元组创建"
   ]
  },
  {
   "cell_type": "code",
   "execution_count": 8,
   "id": "ef17444f",
   "metadata": {},
   "outputs": [
    {
     "data": {
      "text/plain": [
       "0    1\n",
       "1    2\n",
       "2    3\n",
       "3    4\n",
       "4    5\n",
       "5    6\n",
       "dtype: int64"
      ]
     },
     "execution_count": 8,
     "metadata": {},
     "output_type": "execute_result"
    }
   ],
   "source": [
    "#使用元组\n",
    "tuple1=(1,2,3,4,5,6)\n",
    "pd.Series(tuple1)"
   ]
  },
  {
   "cell_type": "code",
   "execution_count": 9,
   "id": "e24aade0",
   "metadata": {},
   "outputs": [
    {
     "data": {
      "text/plain": [
       "a    1\n",
       "b    2\n",
       "dtype: int64"
      ]
     },
     "execution_count": 9,
     "metadata": {},
     "output_type": "execute_result"
    }
   ],
   "source": [
    "#字典\n",
    "dictl={'a':1,'b':2}\n",
    "pd.Series(dictl)"
   ]
  },
  {
   "cell_type": "markdown",
   "id": "ba837a34",
   "metadata": {},
   "source": [
    "# s对象常用属性和方法"
   ]
  },
  {
   "cell_type": "code",
   "execution_count": 12,
   "id": "e307de3f",
   "metadata": {},
   "outputs": [],
   "source": [
    "#s对象就是通过类创建出来的\n",
    "s4=pd.Series(data=[i for i in range(6)],index=[i for i in 'ABCDEF'])   #列表推导式"
   ]
  },
  {
   "cell_type": "code",
   "execution_count": 14,
   "id": "89f5610d",
   "metadata": {},
   "outputs": [
    {
     "name": "stdout",
     "output_type": "stream",
     "text": [
      "0\n",
      "1\n",
      "2\n",
      "3\n",
      "4\n",
      "5\n"
     ]
    },
    {
     "data": {
      "text/plain": [
       "count    6.000000\n",
       "mean     2.500000\n",
       "std      1.870829\n",
       "min      0.000000\n",
       "25%      1.250000\n",
       "50%      2.500000\n",
       "75%      3.750000\n",
       "max      5.000000\n",
       "dtype: float64"
      ]
     },
     "execution_count": 14,
     "metadata": {},
     "output_type": "execute_result"
    }
   ],
   "source": [
    "#查看s对象的长度\n",
    "len(s4)\n",
    "#返回对象形状\n",
    "s4.shape #返回一个元组（行数，列数）\n",
    "#查看数据类型\n",
    "s4.dtypes\n",
    "#查看数据\n",
    "s4.values\n",
    "#查看索引\n",
    "s4.index\n",
    "#转换列表\n",
    "s4.to_list\n",
    "s4.tolist\n",
    "#循环遍历\n",
    "for i in s4:\n",
    "    print(i)\n",
    "#g根据索引（下标）查看对应位置的数据\n",
    "s4[\"A\"]\n",
    "s4[0]\n",
    "#获取前2条(默认5条)\n",
    "s4.head(2)\n",
    "#获取后五条数据\n",
    "s4.tail()\n",
    "#统计表述信息\n",
    "# mean：算数平均数  std：标准偏差  四分位·位点置\n",
    "#标准偏差是一种度量数据分布的分散程度之标准，用以衡量数据值偏离算术平均值的程度。标准骗差越小，这些值偏离平均值就越少，反之亦然\n",
    "# 四分位数 (Quartile) 也称四分位点，是指在统计学中把所有数值由小到大排列并分成四等份，处于三个分割点位置的数值。\n",
    "s4.describe()\n"
   ]
  },
  {
   "cell_type": "code",
   "execution_count": null,
   "id": "85a9367c",
   "metadata": {},
   "outputs": [],
   "source": [
    "#将s对象转换为DF对象\n",
    "s4.to_frame()\n",
    "s4.reset_index(drop=True)       #转换索引（删除索引列）"
   ]
  },
  {
   "cell_type": "markdown",
   "id": "e7990232",
   "metadata": {},
   "source": [
    "## 布尔值列表获取部分数据"
   ]
  },
  {
   "cell_type": "code",
   "execution_count": 21,
   "id": "30fe287b",
   "metadata": {},
   "outputs": [
    {
     "data": {
      "text/plain": [
       "[True, True, True, False, False, False]"
      ]
     },
     "execution_count": 21,
     "metadata": {},
     "output_type": "execute_result"
    }
   ],
   "source": [
    "#构造布尔值列表(要和s对象个数一一对应)\n",
    "bool_list=[True]*3+[False]*3\n",
    "bool_list"
   ]
  },
  {
   "cell_type": "code",
   "execution_count": 22,
   "id": "f7724f0a",
   "metadata": {},
   "outputs": [
    {
     "data": {
      "text/plain": [
       "A    0\n",
       "B    1\n",
       "C    2\n",
       "dtype: int64"
      ]
     },
     "execution_count": 22,
     "metadata": {},
     "output_type": "execute_result"
    }
   ],
   "source": [
    "#获取为true的数据\n",
    "s4[bool_list]"
   ]
  },
  {
   "cell_type": "markdown",
   "id": "4b696d37",
   "metadata": {},
   "source": [
    "## Series对象的运算"
   ]
  },
  {
   "cell_type": "code",
   "execution_count": 23,
   "id": "fac93680",
   "metadata": {},
   "outputs": [
    {
     "data": {
      "text/plain": [
       "A     0\n",
       "B     5\n",
       "C    10\n",
       "D    15\n",
       "E    20\n",
       "F    25\n",
       "dtype: int64"
      ]
     },
     "execution_count": 23,
     "metadata": {},
     "output_type": "execute_result"
    }
   ],
   "source": [
    "#第一种：与数值变量的运算\n",
    "s4*5   #s对象的每一个元素逐一和数值进行计算"
   ]
  },
  {
   "cell_type": "code",
   "execution_count": 24,
   "id": "3e42deba",
   "metadata": {},
   "outputs": [
    {
     "data": {
      "text/plain": [
       "A     0\n",
       "B     2\n",
       "C     4\n",
       "D     6\n",
       "E     8\n",
       "F    10\n",
       "dtype: int64"
      ]
     },
     "execution_count": 24,
     "metadata": {},
     "output_type": "execute_result"
    }
   ],
   "source": [
    "#第二种：与s对象之间的计算(索引相同)\n",
    "s5=pd.Series(data=[i for i in range(6)],index=[i for i in 'ABCDEF'])\n",
    "s4+s5"
   ]
  },
  {
   "cell_type": "code",
   "execution_count": 25,
   "id": "a255e145",
   "metadata": {},
   "outputs": [
    {
     "data": {
      "text/plain": [
       "A    0.0\n",
       "B    2.0\n",
       "C    4.0\n",
       "D    6.0\n",
       "E    8.0\n",
       "F    NaN\n",
       "G    NaN\n",
       "dtype: float64"
      ]
     },
     "execution_count": 25,
     "metadata": {},
     "output_type": "execute_result"
    }
   ],
   "source": [
    "#索引相同的元素进行计算，索引不同会填充NaN值\n",
    "s6=pd.Series(data=[i for i in range(6)],index=[i for i in 'ABCDEG'])\n",
    "s4+s6"
   ]
  },
  {
   "cell_type": "code",
   "execution_count": null,
   "id": "75cb723f",
   "metadata": {},
   "outputs": [],
   "source": []
  }
 ],
 "metadata": {
  "kernelspec": {
   "display_name": "Python 3 (ipykernel)",
   "language": "python",
   "name": "python3"
  },
  "language_info": {
   "codemirror_mode": {
    "name": "ipython",
    "version": 3
   },
   "file_extension": ".py",
   "mimetype": "text/x-python",
   "name": "python",
   "nbconvert_exporter": "python",
   "pygments_lexer": "ipython3",
   "version": "3.9.12"
  }
 },
 "nbformat": 4,
 "nbformat_minor": 5
}
