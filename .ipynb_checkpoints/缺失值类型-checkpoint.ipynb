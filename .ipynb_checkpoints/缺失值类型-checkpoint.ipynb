{
 "cells": [
  {
   "cell_type": "code",
   "execution_count": null,
   "id": "21854556",
   "metadata": {},
   "outputs": [],
   "source": [
    "删除缺失值\n",
    "df.dropna(axis=0, how='any', thresh=None, subset=None, inplace=False)\n",
    "\n",
    "axis:{0或'index'，1或'columns'}，默认为0 确定是否删除了包含缺少值的行或列\n",
    "\n",
    "  *0或“索引”：删除包含缺少值的行。\n",
    "  *1或“列”：删除包含缺少值的列。\n",
    "how:{'any'，'all'}，默认为'any' 确定是否从DataFrame中删除行或列,至少一个NA或所有NA。\n",
    "\n",
    "  *“any”：如果存在任何NA值，请删除该行或列。\n",
    "\n",
    "  *“all”：如果所有值都是NA，则删除该行或列。\n",
    "thresh: int 需要至少非NA值数据个数。\n",
    "\n",
    "subset: 定义在哪些列中查找缺少的值\n",
    "\n",
    "inplace:是否更改源数据"
   ]
  },
  {
   "cell_type": "code",
   "execution_count": null,
   "id": "4ac96766",
   "metadata": {},
   "outputs": [],
   "source": [
    "缺失值填充\n",
    "一般有用0填充，\n",
    "\n",
    "用平均值填充，\n",
    "\n",
    "用众数填充（大多数时候用这个），众数是指一组数据中出现次数最多的那个数据，一组数据可以有多个众数，也可以没有众数\n",
    "\n",
    "向前填充(用缺失值的上一行对应字段的值填充，比如D3单元格缺失，那么就用D2单元格的值填充)、\n",
    "\n",
    "向后填充(与向前填充对应)等方式。\n",
    "\n",
    "df.fillna(\n",
    "    value=None,\n",
    "    method=None,\n",
    "    axis=None,\n",
    "    inplace=False,\n",
    "    limit=None,\n",
    "    downcast=None,\n",
    ")\n",
    "\n",
    "value: 用于填充的值（例如0），或者是一个dict/Series/DataFrame值，指定每个索引（对于一个系列）或列（对于一个数据帧）使用哪个值。不在dict/Series/DataFrame中的值将不会被填充。此值不能是列表。\n",
    "method:ffill-->将上一个有效观察值向前传播 bfill-->将下一个有效观察值向后传播\n",
    "axis:用于填充缺失值的轴。\n",
    "inplace:是否操作源数据\n",
    "limit:要向前/向后填充的最大连续NaN值数"
   ]
  }
 ],
 "metadata": {
  "kernelspec": {
   "display_name": "Python 3 (ipykernel)",
   "language": "python",
   "name": "python3"
  },
  "language_info": {
   "codemirror_mode": {
    "name": "ipython",
    "version": 3
   },
   "file_extension": ".py",
   "mimetype": "text/x-python",
   "name": "python",
   "nbconvert_exporter": "python",
   "pygments_lexer": "ipython3",
   "version": "3.9.12"
  }
 },
 "nbformat": 4,
 "nbformat_minor": 5
}
